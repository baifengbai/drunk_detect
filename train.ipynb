{
 "cells": [
  {
   "cell_type": "code",
   "execution_count": 1,
   "metadata": {},
   "outputs": [
    {
     "name": "stderr",
     "output_type": "stream",
     "text": [
      "Using TensorFlow backend.\n"
     ]
    }
   ],
   "source": [
    "import sys\n",
    "import numpy as np\n",
    "import pandas as pd\n",
    "from keras.models import Sequential\n",
    "from keras.layers import Dense, Activation, Dropout\n",
    "from keras import optimizers\n",
    "from sklearn.utils import shuffle\n",
    "from keras.callbacks import ModelCheckpoint\n",
    "from keras.callbacks import EarlyStopping"
   ]
  },
  {
   "cell_type": "code",
   "execution_count": 2,
   "metadata": {},
   "outputs": [],
   "source": [
    "def read_data(drunkfile, normalfile):\n",
    "    drunk = pd.read_csv(drunkfile)\n",
    "    normal = pd.read_csv(normalfile)\n",
    "    data = pd.concat([drunk, normal])\n",
    "    ans_list = [1]*len(drunk) + [0]*len(normal)\n",
    "    return data[['smile','anger','contempt','disgust','fear','happiness','neutral','sadness','surprise','eyeOccluded']].values, ans_list"
   ]
  },
  {
   "cell_type": "code",
   "execution_count": 3,
   "metadata": {},
   "outputs": [],
   "source": [
    "X_train, Y_train = read_data(\"drunk_new.csv\", \"normal_new.csv\")"
   ]
  },
  {
   "cell_type": "code",
   "execution_count": 4,
   "metadata": {},
   "outputs": [],
   "source": [
    "X_train, Y_train = np.array(X_train), np.array(Y_train)"
   ]
  },
  {
   "cell_type": "code",
   "execution_count": 5,
   "metadata": {},
   "outputs": [],
   "source": [
    "X_train[X_train==True]=1\n",
    "X_train[X_train==False] = 0"
   ]
  },
  {
   "cell_type": "code",
   "execution_count": 6,
   "metadata": {},
   "outputs": [],
   "source": [
    "(X_train, Y_train) = shuffle(X_train, Y_train)"
   ]
  },
  {
   "cell_type": "code",
   "execution_count": 7,
   "metadata": {},
   "outputs": [],
   "source": [
    "X_train, X_valid = X_train[:-50], X_train[-50:]\n",
    "Y_train, Y_valid = Y_train[:-50], Y_train[-50:]"
   ]
  },
  {
   "cell_type": "code",
   "execution_count": 8,
   "metadata": {},
   "outputs": [
    {
     "name": "stdout",
     "output_type": "stream",
     "text": [
      "Train on 1018 samples, validate on 255 samples\n",
      "Epoch 1/100\n",
      "1018/1018 [==============================] - 2s - loss: 0.6409 - acc: 0.6444 - val_loss: 0.6195 - val_acc: 0.6353\n",
      "Epoch 2/100\n",
      "1018/1018 [==============================] - 0s - loss: 0.6286 - acc: 0.6483 - val_loss: 0.6093 - val_acc: 0.6353\n",
      "Epoch 3/100\n",
      "1018/1018 [==============================] - 0s - loss: 0.6093 - acc: 0.6582 - val_loss: 0.5987 - val_acc: 0.6667\n",
      "Epoch 4/100\n",
      "1018/1018 [==============================] - 0s - loss: 0.5998 - acc: 0.7033 - val_loss: 0.5654 - val_acc: 0.7255\n",
      "Epoch 5/100\n",
      "1018/1018 [==============================] - 0s - loss: 0.5603 - acc: 0.7456 - val_loss: 0.5373 - val_acc: 0.7765\n",
      "Epoch 6/100\n",
      "1018/1018 [==============================] - 0s - loss: 0.5502 - acc: 0.7417 - val_loss: 0.5232 - val_acc: 0.7686\n",
      "Epoch 7/100\n",
      "1018/1018 [==============================] - 0s - loss: 0.5390 - acc: 0.7554 - val_loss: 0.5189 - val_acc: 0.7686\n",
      "Epoch 8/100\n",
      "1018/1018 [==============================] - 0s - loss: 0.5259 - acc: 0.7829 - val_loss: 0.5165 - val_acc: 0.7725\n",
      "Epoch 9/100\n",
      "1018/1018 [==============================] - 0s - loss: 0.5218 - acc: 0.7760 - val_loss: 0.5127 - val_acc: 0.8000\n",
      "Epoch 10/100\n",
      "1018/1018 [==============================] - 0s - loss: 0.5244 - acc: 0.7839 - val_loss: 0.5108 - val_acc: 0.8000\n",
      "Epoch 11/100\n",
      "1018/1018 [==============================] - 0s - loss: 0.4995 - acc: 0.7937 - val_loss: 0.5009 - val_acc: 0.8000\n",
      "Epoch 12/100\n",
      "1018/1018 [==============================] - 0s - loss: 0.5118 - acc: 0.7888 - val_loss: 0.5032 - val_acc: 0.7882\n",
      "Epoch 13/100\n",
      "1018/1018 [==============================] - 0s - loss: 0.5128 - acc: 0.7947 - val_loss: 0.5008 - val_acc: 0.7882\n",
      "Epoch 14/100\n",
      "1018/1018 [==============================] - 0s - loss: 0.5025 - acc: 0.7927 - val_loss: 0.4933 - val_acc: 0.8000\n",
      "Epoch 15/100\n",
      "1018/1018 [==============================] - 0s - loss: 0.4961 - acc: 0.7967 - val_loss: 0.4943 - val_acc: 0.7882\n",
      "Epoch 16/100\n",
      "1018/1018 [==============================] - 0s - loss: 0.5020 - acc: 0.7986 - val_loss: 0.4953 - val_acc: 0.8157\n",
      "Epoch 17/100\n",
      "1018/1018 [==============================] - 0s - loss: 0.5006 - acc: 0.8006 - val_loss: 0.4871 - val_acc: 0.8000\n",
      "Epoch 18/100\n",
      "1018/1018 [==============================] - 0s - loss: 0.4874 - acc: 0.8006 - val_loss: 0.5036 - val_acc: 0.8157\n",
      "Epoch 19/100\n",
      "1018/1018 [==============================] - 0s - loss: 0.4793 - acc: 0.8084 - val_loss: 0.4906 - val_acc: 0.8039\n",
      "Epoch 20/100\n",
      "1018/1018 [==============================] - 0s - loss: 0.4894 - acc: 0.8055 - val_loss: 0.4949 - val_acc: 0.8039\n",
      "Epoch 21/100\n",
      "1018/1018 [==============================] - 0s - loss: 0.4889 - acc: 0.8035 - val_loss: 0.4970 - val_acc: 0.7922\n",
      "Epoch 22/100\n",
      "1018/1018 [==============================] - 0s - loss: 0.4983 - acc: 0.8065 - val_loss: 0.4869 - val_acc: 0.8078\n",
      "Epoch 23/100\n",
      "1018/1018 [==============================] - 0s - loss: 0.4846 - acc: 0.8016 - val_loss: 0.4918 - val_acc: 0.7961\n",
      "Epoch 24/100\n",
      "1018/1018 [==============================] - 0s - loss: 0.4861 - acc: 0.8006 - val_loss: 0.4830 - val_acc: 0.8078\n",
      "Epoch 25/100\n",
      "1018/1018 [==============================] - 0s - loss: 0.4859 - acc: 0.8045 - val_loss: 0.4763 - val_acc: 0.8078\n",
      "Epoch 26/100\n",
      "1018/1018 [==============================] - 0s - loss: 0.4772 - acc: 0.8104 - val_loss: 0.4849 - val_acc: 0.8118\n",
      "Epoch 27/100\n",
      "1018/1018 [==============================] - 0s - loss: 0.4822 - acc: 0.8134 - val_loss: 0.4843 - val_acc: 0.8157\n",
      "Epoch 28/100\n",
      "1018/1018 [==============================] - 0s - loss: 0.4684 - acc: 0.8104 - val_loss: 0.4968 - val_acc: 0.8157\n",
      "Epoch 29/100\n",
      "1018/1018 [==============================] - 0s - loss: 0.4849 - acc: 0.8075 - val_loss: 0.4873 - val_acc: 0.8118\n",
      "Epoch 30/100\n",
      "1018/1018 [==============================] - 0s - loss: 0.4873 - acc: 0.8055 - val_loss: 0.4920 - val_acc: 0.8078\n",
      "Epoch 31/100\n",
      "1018/1018 [==============================] - 0s - loss: 0.4747 - acc: 0.8183 - val_loss: 0.4823 - val_acc: 0.8118\n",
      "Epoch 32/100\n",
      "1018/1018 [==============================] - 0s - loss: 0.4751 - acc: 0.8104 - val_loss: 0.5191 - val_acc: 0.7922\n",
      "Epoch 33/100\n",
      "1018/1018 [==============================] - 0s - loss: 0.4812 - acc: 0.8026 - val_loss: 0.4850 - val_acc: 0.8078\n",
      "Epoch 34/100\n",
      "1018/1018 [==============================] - 0s - loss: 0.4782 - acc: 0.8134 - val_loss: 0.4863 - val_acc: 0.8078\n",
      "Epoch 35/100\n",
      "1018/1018 [==============================] - 0s - loss: 0.4908 - acc: 0.8045 - val_loss: 0.4955 - val_acc: 0.7961\n",
      "Epoch 36/100\n",
      "1018/1018 [==============================] - 0s - loss: 0.4775 - acc: 0.8045 - val_loss: 0.4864 - val_acc: 0.8078\n",
      "Epoch 37/100\n",
      "1018/1018 [==============================] - 0s - loss: 0.4764 - acc: 0.8104 - val_loss: 0.4938 - val_acc: 0.8039\n",
      "Epoch 38/100\n",
      "1018/1018 [==============================] - 0s - loss: 0.4794 - acc: 0.8045 - val_loss: 0.4896 - val_acc: 0.8078\n",
      "Epoch 39/100\n",
      "1018/1018 [==============================] - 0s - loss: 0.4785 - acc: 0.8084 - val_loss: 0.5007 - val_acc: 0.8157\n",
      "Epoch 40/100\n",
      "1018/1018 [==============================] - 0s - loss: 0.4627 - acc: 0.8153 - val_loss: 0.4825 - val_acc: 0.8118\n",
      "Epoch 41/100\n",
      "1018/1018 [==============================] - 0s - loss: 0.4622 - acc: 0.8153 - val_loss: 0.4940 - val_acc: 0.8196\n",
      "Epoch 42/100\n",
      "1018/1018 [==============================] - 0s - loss: 0.4689 - acc: 0.8163 - val_loss: 0.4866 - val_acc: 0.8078\n",
      "Epoch 43/100\n",
      "1018/1018 [==============================] - 0s - loss: 0.4605 - acc: 0.8163 - val_loss: 0.5011 - val_acc: 0.8000\n",
      "Epoch 44/100\n",
      "1018/1018 [==============================] - 0s - loss: 0.4736 - acc: 0.8153 - val_loss: 0.4864 - val_acc: 0.8000\n",
      "Epoch 45/100\n",
      "1018/1018 [==============================] - 0s - loss: 0.4694 - acc: 0.8134 - val_loss: 0.4822 - val_acc: 0.8039\n",
      "Epoch 46/100\n",
      "1018/1018 [==============================] - 0s - loss: 0.4780 - acc: 0.8055 - val_loss: 0.4860 - val_acc: 0.8157\n",
      "Epoch 47/100\n",
      "1018/1018 [==============================] - 0s - loss: 0.4592 - acc: 0.8084 - val_loss: 0.5015 - val_acc: 0.8039\n",
      "Epoch 48/100\n",
      "1018/1018 [==============================] - 0s - loss: 0.4646 - acc: 0.8094 - val_loss: 0.4860 - val_acc: 0.8118\n",
      "Epoch 49/100\n",
      "1018/1018 [==============================] - 0s - loss: 0.4689 - acc: 0.8193 - val_loss: 0.4860 - val_acc: 0.8039\n",
      "Epoch 50/100\n",
      "1018/1018 [==============================] - 0s - loss: 0.4699 - acc: 0.8153 - val_loss: 0.4922 - val_acc: 0.8039\n",
      "Epoch 51/100\n",
      "1018/1018 [==============================] - 0s - loss: 0.4629 - acc: 0.8124 - val_loss: 0.4884 - val_acc: 0.7961\n",
      "Epoch 52/100\n",
      "1018/1018 [==============================] - 0s - loss: 0.4681 - acc: 0.8134 - val_loss: 0.4876 - val_acc: 0.8078\n",
      "Epoch 53/100\n",
      "1018/1018 [==============================] - 0s - loss: 0.4678 - acc: 0.8084 - val_loss: 0.4958 - val_acc: 0.8000\n",
      "Epoch 54/100\n",
      "1018/1018 [==============================] - 0s - loss: 0.4664 - acc: 0.8124 - val_loss: 0.4907 - val_acc: 0.8039\n",
      "Epoch 55/100\n",
      "1018/1018 [==============================] - 0s - loss: 0.4646 - acc: 0.8143 - val_loss: 0.4863 - val_acc: 0.8157\n",
      "Epoch 56/100\n",
      "1018/1018 [==============================] - 0s - loss: 0.4616 - acc: 0.8251 - val_loss: 0.5059 - val_acc: 0.7843\n",
      "Epoch 57/100\n",
      "1018/1018 [==============================] - 0s - loss: 0.4600 - acc: 0.8291 - val_loss: 0.4963 - val_acc: 0.8039\n",
      "Epoch 58/100\n",
      "1018/1018 [==============================] - 0s - loss: 0.4597 - acc: 0.8173 - val_loss: 0.4861 - val_acc: 0.8000\n",
      "Epoch 59/100\n",
      "1018/1018 [==============================] - 0s - loss: 0.4803 - acc: 0.8134 - val_loss: 0.4910 - val_acc: 0.8000\n",
      "Epoch 60/100\n",
      "1018/1018 [==============================] - 0s - loss: 0.4646 - acc: 0.8143 - val_loss: 0.4831 - val_acc: 0.8078\n",
      "Epoch 61/100\n",
      "1018/1018 [==============================] - 0s - loss: 0.4728 - acc: 0.8114 - val_loss: 0.4865 - val_acc: 0.8196\n",
      "Epoch 62/100\n",
      "1018/1018 [==============================] - 0s - loss: 0.4644 - acc: 0.8134 - val_loss: 0.4931 - val_acc: 0.8157\n",
      "Epoch 63/100\n",
      "1018/1018 [==============================] - 0s - loss: 0.4634 - acc: 0.8222 - val_loss: 0.4829 - val_acc: 0.8196\n",
      "Epoch 64/100\n",
      "1018/1018 [==============================] - 0s - loss: 0.4583 - acc: 0.8242 - val_loss: 0.4909 - val_acc: 0.8000\n",
      "Epoch 65/100\n"
     ]
    },
    {
     "name": "stdout",
     "output_type": "stream",
     "text": [
      "1018/1018 [==============================] - 0s - loss: 0.4553 - acc: 0.8232 - val_loss: 0.4849 - val_acc: 0.8196\n",
      "Epoch 66/100\n",
      "1018/1018 [==============================] - 0s - loss: 0.4544 - acc: 0.8153 - val_loss: 0.4860 - val_acc: 0.8078\n",
      "Epoch 67/100\n",
      "1018/1018 [==============================] - 0s - loss: 0.4636 - acc: 0.8075 - val_loss: 0.4915 - val_acc: 0.8000\n",
      "Epoch 68/100\n",
      "1018/1018 [==============================] - 0s - loss: 0.4586 - acc: 0.8193 - val_loss: 0.4860 - val_acc: 0.8196\n",
      "Epoch 69/100\n",
      "1018/1018 [==============================] - 0s - loss: 0.4524 - acc: 0.8202 - val_loss: 0.4846 - val_acc: 0.8078\n",
      "Epoch 70/100\n",
      "1018/1018 [==============================] - 0s - loss: 0.4511 - acc: 0.8163 - val_loss: 0.4934 - val_acc: 0.8000\n",
      "Epoch 71/100\n",
      "1018/1018 [==============================] - 0s - loss: 0.4605 - acc: 0.8163 - val_loss: 0.4836 - val_acc: 0.8196\n",
      "Epoch 72/100\n",
      "1018/1018 [==============================] - 0s - loss: 0.4577 - acc: 0.8232 - val_loss: 0.4971 - val_acc: 0.8157\n",
      "Epoch 73/100\n",
      "1018/1018 [==============================] - 0s - loss: 0.4613 - acc: 0.8163 - val_loss: 0.4860 - val_acc: 0.8118\n",
      "Epoch 74/100\n",
      "1018/1018 [==============================] - 0s - loss: 0.4671 - acc: 0.8202 - val_loss: 0.5018 - val_acc: 0.8039\n",
      "Epoch 75/100\n",
      "1018/1018 [==============================] - 0s - loss: 0.4572 - acc: 0.8104 - val_loss: 0.4883 - val_acc: 0.8196\n",
      "Epoch 76/100\n",
      "1018/1018 [==============================] - 0s - loss: 0.4536 - acc: 0.8173 - val_loss: 0.4916 - val_acc: 0.8078\n",
      "Epoch 77/100\n",
      "1018/1018 [==============================] - 0s - loss: 0.4550 - acc: 0.8212 - val_loss: 0.4957 - val_acc: 0.8000\n",
      "Epoch 78/100\n",
      "1018/1018 [==============================] - 0s - loss: 0.4536 - acc: 0.8104 - val_loss: 0.4908 - val_acc: 0.8039\n",
      "Epoch 79/100\n",
      "1018/1018 [==============================] - 0s - loss: 0.4526 - acc: 0.8232 - val_loss: 0.5037 - val_acc: 0.8039\n",
      "Epoch 80/100\n",
      "1018/1018 [==============================] - 0s - loss: 0.4598 - acc: 0.8232 - val_loss: 0.5096 - val_acc: 0.8039\n",
      "Epoch 81/100\n",
      "1018/1018 [==============================] - 0s - loss: 0.4608 - acc: 0.8232 - val_loss: 0.4899 - val_acc: 0.8196\n",
      "Epoch 82/100\n",
      "1018/1018 [==============================] - 0s - loss: 0.4511 - acc: 0.8163 - val_loss: 0.4966 - val_acc: 0.8039\n",
      "Epoch 83/100\n",
      "1018/1018 [==============================] - 0s - loss: 0.4545 - acc: 0.8173 - val_loss: 0.4977 - val_acc: 0.8039\n",
      "Epoch 84/100\n",
      "1018/1018 [==============================] - 0s - loss: 0.4562 - acc: 0.8163 - val_loss: 0.5046 - val_acc: 0.8039\n",
      "Epoch 85/100\n",
      "1018/1018 [==============================] - 0s - loss: 0.4507 - acc: 0.8193 - val_loss: 0.4855 - val_acc: 0.8196\n",
      "Epoch 86/100\n",
      "1018/1018 [==============================] - 0s - loss: 0.4532 - acc: 0.8222 - val_loss: 0.5023 - val_acc: 0.8039\n",
      "Epoch 87/100\n",
      "1018/1018 [==============================] - 0s - loss: 0.4521 - acc: 0.8202 - val_loss: 0.5048 - val_acc: 0.8039\n",
      "Epoch 88/100\n",
      "1018/1018 [==============================] - 0s - loss: 0.4386 - acc: 0.8281 - val_loss: 0.5122 - val_acc: 0.8000\n",
      "Epoch 89/100\n",
      "1018/1018 [==============================] - 0s - loss: 0.4460 - acc: 0.8271 - val_loss: 0.5191 - val_acc: 0.8000\n",
      "Epoch 90/100\n",
      "1018/1018 [==============================] - 0s - loss: 0.4500 - acc: 0.8232 - val_loss: 0.4903 - val_acc: 0.8039\n",
      "Epoch 91/100\n",
      "1018/1018 [==============================] - 0s - loss: 0.4501 - acc: 0.8143 - val_loss: 0.4950 - val_acc: 0.8039\n",
      "Epoch 92/100\n",
      "1018/1018 [==============================] - 0s - loss: 0.4575 - acc: 0.8202 - val_loss: 0.5081 - val_acc: 0.8039\n",
      "Epoch 93/100\n",
      "1018/1018 [==============================] - 0s - loss: 0.4453 - acc: 0.8153 - val_loss: 0.4954 - val_acc: 0.8078\n",
      "Epoch 94/100\n",
      "1018/1018 [==============================] - 0s - loss: 0.4601 - acc: 0.8193 - val_loss: 0.4982 - val_acc: 0.8157\n",
      "Epoch 95/100\n",
      "1018/1018 [==============================] - 0s - loss: 0.4513 - acc: 0.8212 - val_loss: 0.5060 - val_acc: 0.8039\n",
      "Epoch 96/100\n",
      "1018/1018 [==============================] - 0s - loss: 0.4655 - acc: 0.8075 - val_loss: 0.5130 - val_acc: 0.8000\n",
      "Epoch 97/100\n",
      "1018/1018 [==============================] - 0s - loss: 0.4580 - acc: 0.8212 - val_loss: 0.4984 - val_acc: 0.8039\n",
      "Epoch 98/100\n",
      "1018/1018 [==============================] - 0s - loss: 0.4531 - acc: 0.8291 - val_loss: 0.5093 - val_acc: 0.8078\n",
      "Epoch 99/100\n",
      "1018/1018 [==============================] - 0s - loss: 0.4570 - acc: 0.8163 - val_loss: 0.5101 - val_acc: 0.8039\n",
      "Epoch 100/100\n",
      "1018/1018 [==============================] - 0s - loss: 0.4423 - acc: 0.8251 - val_loss: 0.5123 - val_acc: 0.8157\n"
     ]
    },
    {
     "data": {
      "text/plain": [
       "<keras.callbacks.History at 0x15e7e8ef278>"
      ]
     },
     "execution_count": 8,
     "metadata": {},
     "output_type": "execute_result"
    }
   ],
   "source": [
    "model = Sequential()\n",
    "model.add(Dense(input_dim = X_train.shape[1], units = 10, activation = 'relu'))\n",
    "model.add(Dropout(0.25))\n",
    "model.add(Dense(units = 64, activation = 'relu'))\n",
    "model.add(Dropout(0.25))\n",
    "model.add(Dense(units = 32, activation = 'relu'))\n",
    "model.add(Dropout(0.25))\n",
    "model.add(Dense(units = 8, activation = 'relu'))\n",
    "model.add(Dropout(0.25))\n",
    "model.add(Dense(units = 1, activation = 'sigmoid'))\n",
    "model.compile(loss='binary_crossentropy', optimizer='Adam', metrics=['accuracy'])\n",
    "callbacks = []\n",
    "callbacks.append(ModelCheckpoint('models/model-{epoch:05d}-{val_acc:.5f}-{val_loss:.5f}.h5', monitor='val_acc', save_best_only=True, mode = 'auto', period=1))\n",
    "model.fit(X_train, Y_train, batch_size = 8, epochs = 100, validation_split=0.2, callbacks=callbacks)"
   ]
  },
  {
   "cell_type": "code",
   "execution_count": 9,
   "metadata": {},
   "outputs": [
    {
     "name": "stdout",
     "output_type": "stream",
     "text": [
      "50/50 [==============================] - 0s\n",
      "0.860000014305\n"
     ]
    }
   ],
   "source": [
    "result = model.evaluate(X_valid, Y_valid, batch_size = X_valid.shape[0])\n",
    "print(result[1])"
   ]
  },
  {
   "cell_type": "code",
   "execution_count": 10,
   "metadata": {},
   "outputs": [
    {
     "name": "stdout",
     "output_type": "stream",
     "text": [
      "acc_train =  0.859387274156\n",
      "acc_valid =  0.84\n"
     ]
    },
    {
     "name": "stderr",
     "output_type": "stream",
     "text": [
      "c:\\python36\\lib\\site-packages\\sklearn\\cross_validation.py:41: DeprecationWarning: This module was deprecated in version 0.18 in favor of the model_selection module into which all the refactored classes and functions are moved. Also note that the interface of the new CV iterators are different from that of this module. This module will be removed in 0.20.\n",
      "  \"This module will be removed in 0.20.\", DeprecationWarning)\n"
     ]
    }
   ],
   "source": [
    "from xgboost import XGBClassifier\n",
    "model2 = XGBClassifier(max_depth=3, n_estimators=200, learning_rate=0.05)\n",
    "model2.fit(X_train, Y_train.flatten())\n",
    "predict_train = model2.predict(X_train)\n",
    "acc_train = np.mean(Y_train.flatten() == predict_train)\n",
    "print(\"acc_train = \", acc_train)\n",
    "predict_valid = model2.predict(X_valid)\n",
    "acc_valid = np.mean(Y_valid.flatten() == predict_valid)\n",
    "print(\"acc_valid = \", acc_valid)"
   ]
  },
  {
   "cell_type": "code",
   "execution_count": 14,
   "metadata": {},
   "outputs": [],
   "source": [
    "import pickle\n",
    "pickle.dump(model2, open(\"xgbmodel\", \"wb\"))"
   ]
  },
  {
   "cell_type": "code",
   "execution_count": 15,
   "metadata": {},
   "outputs": [
    {
     "name": "stdout",
     "output_type": "stream",
     "text": [
      "acc_valid =  0.84\n"
     ]
    }
   ],
   "source": [
    "loaded_model = pickle.load(open(\"xgbmodel\", \"rb\"))\n",
    "acc_valid = np.mean(Y_valid.flatten() == predict_valid)\n",
    "print(\"acc_valid = \", acc_valid)"
   ]
  },
  {
   "cell_type": "code",
   "execution_count": 20,
   "metadata": {},
   "outputs": [
    {
     "name": "stdout",
     "output_type": "stream",
     "text": [
      "50/50 [==============================] - 0s\n",
      "0.880000054836\n"
     ]
    }
   ],
   "source": [
    "from keras.models import load_model\n",
    "model = load_model(\"keras_model.h5\")\n",
    "result = model.evaluate(X_valid, Y_valid, batch_size = X_valid.shape[0])\n",
    "print(result[1])"
   ]
  },
  {
   "cell_type": "code",
   "execution_count": 26,
   "metadata": {},
   "outputs": [
    {
     "name": "stdout",
     "output_type": "stream",
     "text": [
      "[[ 0.67354691]]\n"
     ]
    }
   ],
   "source": [
    "temp = X_valid[0].reshape((1,10))\n",
    "ans = model.predict(X_valid[0].reshape((1,10)))\n",
    "print(ans)"
   ]
  }
 ],
 "metadata": {
  "kernelspec": {
   "display_name": "Python 3",
   "language": "python",
   "name": "python3"
  },
  "language_info": {
   "codemirror_mode": {
    "name": "ipython",
    "version": 3
   },
   "file_extension": ".py",
   "mimetype": "text/x-python",
   "name": "python",
   "nbconvert_exporter": "python",
   "pygments_lexer": "ipython3",
   "version": "3.6.4"
  }
 },
 "nbformat": 4,
 "nbformat_minor": 2
}
