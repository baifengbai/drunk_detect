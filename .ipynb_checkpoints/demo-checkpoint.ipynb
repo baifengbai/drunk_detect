{
 "cells": [
  {
   "cell_type": "code",
   "execution_count": 1,
   "metadata": {},
   "outputs": [
    {
     "name": "stderr",
     "output_type": "stream",
     "text": [
      "/Users/DannyShau/anaconda/envs/py3.5/lib/python3.5/site-packages/h5py/__init__.py:36: FutureWarning: Conversion of the second argument of issubdtype from `float` to `np.floating` is deprecated. In future, it will be treated as `np.float64 == np.dtype(float).type`.\n",
      "  from ._conv import register_converters as _register_converters\n",
      "Using TensorFlow backend.\n"
     ]
    }
   ],
   "source": [
    "import sys\n",
    "import numpy as np\n",
    "import pandas as pd\n",
    "from keras.models import Sequential\n",
    "from keras.layers import Dense, Activation, Dropout\n",
    "from keras import optimizers\n",
    "from sklearn.utils import shuffle\n",
    "from keras.callbacks import ModelCheckpoint\n",
    "from keras.callbacks import EarlyStopping"
   ]
  },
  {
   "cell_type": "code",
   "execution_count": 2,
   "metadata": {},
   "outputs": [],
   "source": [
    "def read_data(drunkfile, normalfile):\n",
    "    drunk = pd.read_csv(drunkfile)\n",
    "    normal = pd.read_csv(normalfile)\n",
    "    data = pd.concat([drunk, normal])\n",
    "    ans_list = [1]*len(drunk) + [0]*len(normal)\n",
    "    return data[['smile','anger','contempt','disgust','fear','happiness','neutral','sadness','surprise','eyeOccluded']].values, ans_list"
   ]
  },
  {
   "cell_type": "code",
   "execution_count": 3,
   "metadata": {},
   "outputs": [],
   "source": [
    "X_train, Y_train = read_data(\"model/drunk.csv\", \"model/normal.csv\")"
   ]
  },
  {
   "cell_type": "code",
   "execution_count": 4,
   "metadata": {},
   "outputs": [],
   "source": [
    "X_train, Y_train = np.array(X_train), np.array(Y_train)"
   ]
  },
  {
   "cell_type": "code",
   "execution_count": 5,
   "metadata": {},
   "outputs": [],
   "source": [
    "X_train[X_train==True] = 1\n",
    "X_train[X_train==False] = 0"
   ]
  },
  {
   "cell_type": "code",
   "execution_count": 6,
   "metadata": {},
   "outputs": [],
   "source": [
    "(X_train, Y_train) = shuffle(X_train, Y_train)"
   ]
  },
  {
   "cell_type": "code",
   "execution_count": 7,
   "metadata": {},
   "outputs": [],
   "source": [
    "X_train, X_valid = X_train[:-50], X_train[-50:]\n",
    "Y_train, Y_valid = Y_train[:-50], Y_train[-50:]"
   ]
  },
  {
   "cell_type": "code",
   "execution_count": 8,
   "metadata": {
    "scrolled": false
   },
   "outputs": [
    {
     "name": "stdout",
     "output_type": "stream",
     "text": [
      "_________________________________________________________________\n",
      "Layer (type)                 Output Shape              Param #   \n",
      "=================================================================\n",
      "dense_1 (Dense)              (None, 10)                110       \n",
      "_________________________________________________________________\n",
      "dropout_1 (Dropout)          (None, 10)                0         \n",
      "_________________________________________________________________\n",
      "dense_2 (Dense)              (None, 64)                704       \n",
      "_________________________________________________________________\n",
      "dropout_2 (Dropout)          (None, 64)                0         \n",
      "_________________________________________________________________\n",
      "dense_3 (Dense)              (None, 32)                2080      \n",
      "_________________________________________________________________\n",
      "dropout_3 (Dropout)          (None, 32)                0         \n",
      "_________________________________________________________________\n",
      "dense_4 (Dense)              (None, 8)                 264       \n",
      "_________________________________________________________________\n",
      "dropout_4 (Dropout)          (None, 8)                 0         \n",
      "_________________________________________________________________\n",
      "dense_5 (Dense)              (None, 1)                 9         \n",
      "=================================================================\n",
      "Total params: 3,167\n",
      "Trainable params: 3,167\n",
      "Non-trainable params: 0\n",
      "_________________________________________________________________\n"
     ]
    }
   ],
   "source": [
    "model = Sequential()\n",
    "model.add(Dense(input_dim = X_train.shape[1], units = 10, activation = 'relu'))\n",
    "model.add(Dropout(0.25))\n",
    "model.add(Dense(units = 64, activation = 'relu'))\n",
    "model.add(Dropout(0.25))\n",
    "model.add(Dense(units = 32, activation = 'relu'))\n",
    "model.add(Dropout(0.25))\n",
    "model.add(Dense(units = 8, activation = 'relu'))\n",
    "model.add(Dropout(0.25))\n",
    "model.add(Dense(units = 1, activation = 'sigmoid'))\n",
    "model.compile(loss='binary_crossentropy', optimizer='Adam', metrics=['accuracy'])\n",
    "model.summary()"
   ]
  },
  {
   "cell_type": "code",
   "execution_count": 9,
   "metadata": {},
   "outputs": [
    {
     "name": "stdout",
     "output_type": "stream",
     "text": [
      "Train on 1018 samples, validate on 255 samples\n",
      "Epoch 1/100\n",
      "1018/1018 [==============================] - 1s 1ms/step - loss: 0.6611 - acc: 0.6326 - val_loss: 0.6084 - val_acc: 0.6824\n",
      "Epoch 2/100\n",
      "1018/1018 [==============================] - 0s 397us/step - loss: 0.6231 - acc: 0.6611 - val_loss: 0.5821 - val_acc: 0.7412\n",
      "Epoch 3/100\n",
      "1018/1018 [==============================] - 0s 405us/step - loss: 0.5954 - acc: 0.6935 - val_loss: 0.5493 - val_acc: 0.7686\n",
      "Epoch 4/100\n",
      "1018/1018 [==============================] - 0s 394us/step - loss: 0.5919 - acc: 0.6984 - val_loss: 0.5443 - val_acc: 0.8000\n",
      "Epoch 5/100\n",
      "1018/1018 [==============================] - 0s 403us/step - loss: 0.5735 - acc: 0.7200 - val_loss: 0.5093 - val_acc: 0.7882\n",
      "Epoch 6/100\n",
      "1018/1018 [==============================] - 0s 403us/step - loss: 0.5683 - acc: 0.7318 - val_loss: 0.5069 - val_acc: 0.8078\n",
      "Epoch 7/100\n",
      "1018/1018 [==============================] - 0s 381us/step - loss: 0.5436 - acc: 0.7554 - val_loss: 0.4863 - val_acc: 0.7961\n",
      "Epoch 8/100\n",
      "1018/1018 [==============================] - 0s 402us/step - loss: 0.5316 - acc: 0.7574 - val_loss: 0.4801 - val_acc: 0.8039\n",
      "Epoch 9/100\n",
      "1018/1018 [==============================] - 0s 487us/step - loss: 0.5211 - acc: 0.7682 - val_loss: 0.4773 - val_acc: 0.8235\n",
      "Epoch 10/100\n",
      "1018/1018 [==============================] - 0s 460us/step - loss: 0.5293 - acc: 0.7633 - val_loss: 0.4724 - val_acc: 0.8118\n",
      "Epoch 11/100\n",
      "1018/1018 [==============================] - 0s 397us/step - loss: 0.5279 - acc: 0.7692 - val_loss: 0.4684 - val_acc: 0.8157\n",
      "Epoch 12/100\n",
      "1018/1018 [==============================] - 0s 400us/step - loss: 0.5191 - acc: 0.7878 - val_loss: 0.4625 - val_acc: 0.8235\n",
      "Epoch 13/100\n",
      "1018/1018 [==============================] - 0s 401us/step - loss: 0.5124 - acc: 0.7800 - val_loss: 0.4638 - val_acc: 0.8157\n",
      "Epoch 14/100\n",
      "1018/1018 [==============================] - 0s 407us/step - loss: 0.5060 - acc: 0.7849 - val_loss: 0.4636 - val_acc: 0.8157\n",
      "Epoch 15/100\n",
      "1018/1018 [==============================] - 0s 404us/step - loss: 0.4911 - acc: 0.7986 - val_loss: 0.4673 - val_acc: 0.8157\n",
      "Epoch 16/100\n",
      "1018/1018 [==============================] - 0s 465us/step - loss: 0.4980 - acc: 0.7839 - val_loss: 0.5560 - val_acc: 0.6353\n",
      "Epoch 17/100\n",
      "1018/1018 [==============================] - 1s 514us/step - loss: 0.5272 - acc: 0.7711 - val_loss: 0.4554 - val_acc: 0.8275\n",
      "Epoch 18/100\n",
      "1018/1018 [==============================] - 0s 422us/step - loss: 0.5240 - acc: 0.7800 - val_loss: 0.4620 - val_acc: 0.8235\n",
      "Epoch 19/100\n",
      "1018/1018 [==============================] - 0s 414us/step - loss: 0.4964 - acc: 0.7976 - val_loss: 0.4545 - val_acc: 0.8157\n",
      "Epoch 20/100\n",
      "1018/1018 [==============================] - 0s 408us/step - loss: 0.5049 - acc: 0.7898 - val_loss: 0.4504 - val_acc: 0.8275\n",
      "Epoch 21/100\n",
      "1018/1018 [==============================] - 0s 411us/step - loss: 0.4941 - acc: 0.7927 - val_loss: 0.4491 - val_acc: 0.8314\n",
      "Epoch 22/100\n",
      "1018/1018 [==============================] - 0s 490us/step - loss: 0.5036 - acc: 0.7859 - val_loss: 0.4640 - val_acc: 0.8118\n",
      "Epoch 23/100\n",
      "1018/1018 [==============================] - 0s 461us/step - loss: 0.4948 - acc: 0.7849 - val_loss: 0.4530 - val_acc: 0.8157\n",
      "Epoch 24/100\n",
      "1018/1018 [==============================] - 0s 416us/step - loss: 0.5045 - acc: 0.7780 - val_loss: 0.4448 - val_acc: 0.8196\n",
      "Epoch 25/100\n",
      "1018/1018 [==============================] - 0s 410us/step - loss: 0.4913 - acc: 0.7888 - val_loss: 0.4489 - val_acc: 0.8157\n",
      "Epoch 26/100\n",
      "1018/1018 [==============================] - 0s 409us/step - loss: 0.4937 - acc: 0.7908 - val_loss: 0.4430 - val_acc: 0.8353\n",
      "Epoch 27/100\n",
      "1018/1018 [==============================] - 0s 403us/step - loss: 0.5080 - acc: 0.7849 - val_loss: 0.4404 - val_acc: 0.8235\n",
      "Epoch 28/100\n",
      "1018/1018 [==============================] - 0s 419us/step - loss: 0.5064 - acc: 0.7937 - val_loss: 0.4346 - val_acc: 0.8314\n",
      "Epoch 29/100\n",
      "1018/1018 [==============================] - 0s 404us/step - loss: 0.4955 - acc: 0.7986 - val_loss: 0.4310 - val_acc: 0.8314\n",
      "Epoch 30/100\n",
      "1018/1018 [==============================] - 0s 400us/step - loss: 0.4807 - acc: 0.7996 - val_loss: 0.4430 - val_acc: 0.8196\n",
      "Epoch 31/100\n",
      "1018/1018 [==============================] - 1s 520us/step - loss: 0.4949 - acc: 0.7898 - val_loss: 0.4372 - val_acc: 0.8314\n",
      "Epoch 32/100\n",
      "1018/1018 [==============================] - 0s 431us/step - loss: 0.4978 - acc: 0.8016 - val_loss: 0.4363 - val_acc: 0.8431\n",
      "Epoch 33/100\n",
      "1018/1018 [==============================] - 0s 414us/step - loss: 0.4873 - acc: 0.7996 - val_loss: 0.4376 - val_acc: 0.8471\n",
      "Epoch 34/100\n",
      "1018/1018 [==============================] - 0s 424us/step - loss: 0.4915 - acc: 0.7917 - val_loss: 0.4373 - val_acc: 0.8314\n",
      "Epoch 35/100\n",
      "1018/1018 [==============================] - 0s 481us/step - loss: 0.4936 - acc: 0.7908 - val_loss: 0.4403 - val_acc: 0.8235\n",
      "Epoch 36/100\n",
      "1018/1018 [==============================] - 0s 438us/step - loss: 0.4750 - acc: 0.8016 - val_loss: 0.4412 - val_acc: 0.8314\n",
      "Epoch 37/100\n",
      "1018/1018 [==============================] - 0s 410us/step - loss: 0.4794 - acc: 0.7967 - val_loss: 0.4433 - val_acc: 0.8157\n",
      "Epoch 38/100\n",
      "1018/1018 [==============================] - 0s 430us/step - loss: 0.4855 - acc: 0.8026 - val_loss: 0.4304 - val_acc: 0.8235\n",
      "Epoch 39/100\n",
      "1018/1018 [==============================] - 0s 460us/step - loss: 0.4836 - acc: 0.7937 - val_loss: 0.4332 - val_acc: 0.8471\n",
      "Epoch 40/100\n",
      "1018/1018 [==============================] - 0s 455us/step - loss: 0.4721 - acc: 0.7976 - val_loss: 0.4322 - val_acc: 0.8353\n",
      "Epoch 41/100\n",
      "1018/1018 [==============================] - 0s 422us/step - loss: 0.4847 - acc: 0.7908 - val_loss: 0.4280 - val_acc: 0.8275\n",
      "Epoch 42/100\n",
      "1018/1018 [==============================] - 1s 654us/step - loss: 0.4676 - acc: 0.7937 - val_loss: 0.4455 - val_acc: 0.8235\n",
      "Epoch 43/100\n",
      "1018/1018 [==============================] - 1s 607us/step - loss: 0.4889 - acc: 0.7957 - val_loss: 0.4319 - val_acc: 0.8314\n",
      "Epoch 44/100\n",
      "1018/1018 [==============================] - 1s 582us/step - loss: 0.4848 - acc: 0.8006 - val_loss: 0.4257 - val_acc: 0.8314\n",
      "Epoch 45/100\n",
      "1018/1018 [==============================] - 0s 477us/step - loss: 0.4824 - acc: 0.8075 - val_loss: 0.4300 - val_acc: 0.8275\n",
      "Epoch 46/100\n",
      "1018/1018 [==============================] - 0s 465us/step - loss: 0.4895 - acc: 0.7996 - val_loss: 0.4249 - val_acc: 0.8392\n",
      "Epoch 47/100\n",
      "1018/1018 [==============================] - 1s 609us/step - loss: 0.4757 - acc: 0.7927 - val_loss: 0.4318 - val_acc: 0.8314\n",
      "Epoch 48/100\n",
      "1018/1018 [==============================] - 1s 591us/step - loss: 0.4885 - acc: 0.8045 - val_loss: 0.4273 - val_acc: 0.8510\n",
      "Epoch 49/100\n",
      "1018/1018 [==============================] - 1s 496us/step - loss: 0.4820 - acc: 0.8055 - val_loss: 0.4199 - val_acc: 0.8510\n",
      "Epoch 50/100\n",
      "1018/1018 [==============================] - 1s 534us/step - loss: 0.4784 - acc: 0.7927 - val_loss: 0.4340 - val_acc: 0.8353\n",
      "Epoch 51/100\n",
      "1018/1018 [==============================] - 1s 529us/step - loss: 0.4810 - acc: 0.8006 - val_loss: 0.4416 - val_acc: 0.8431\n",
      "Epoch 52/100\n",
      "1018/1018 [==============================] - 0s 462us/step - loss: 0.4821 - acc: 0.8035 - val_loss: 0.4369 - val_acc: 0.8392\n",
      "Epoch 53/100\n",
      "1018/1018 [==============================] - 1s 512us/step - loss: 0.4809 - acc: 0.7986 - val_loss: 0.4337 - val_acc: 0.8353\n",
      "Epoch 54/100\n",
      "1018/1018 [==============================] - 1s 562us/step - loss: 0.4715 - acc: 0.7996 - val_loss: 0.4210 - val_acc: 0.8392\n",
      "Epoch 55/100\n",
      "1018/1018 [==============================] - 1s 508us/step - loss: 0.4934 - acc: 0.7967 - val_loss: 0.4315 - val_acc: 0.8314\n",
      "Epoch 56/100\n",
      "1018/1018 [==============================] - 1s 590us/step - loss: 0.4826 - acc: 0.8055 - val_loss: 0.4342 - val_acc: 0.8314\n",
      "Epoch 57/100\n",
      "1018/1018 [==============================] - 1s 589us/step - loss: 0.4718 - acc: 0.8104 - val_loss: 0.4302 - val_acc: 0.8510\n",
      "Epoch 58/100\n",
      "1018/1018 [==============================] - 0s 476us/step - loss: 0.4739 - acc: 0.8016 - val_loss: 0.4242 - val_acc: 0.8431\n",
      "Epoch 59/100\n",
      "1018/1018 [==============================] - 0s 488us/step - loss: 0.4854 - acc: 0.8006 - val_loss: 0.4277 - val_acc: 0.8314\n",
      "Epoch 60/100\n"
     ]
    },
    {
     "name": "stdout",
     "output_type": "stream",
     "text": [
      "1018/1018 [==============================] - 0s 455us/step - loss: 0.4739 - acc: 0.7976 - val_loss: 0.4291 - val_acc: 0.8314\n",
      "Epoch 61/100\n",
      "1018/1018 [==============================] - 0s 462us/step - loss: 0.4647 - acc: 0.8143 - val_loss: 0.4319 - val_acc: 0.8510\n",
      "Epoch 62/100\n",
      "1018/1018 [==============================] - 0s 420us/step - loss: 0.4606 - acc: 0.8094 - val_loss: 0.4252 - val_acc: 0.8510\n",
      "Epoch 63/100\n",
      "1018/1018 [==============================] - 0s 447us/step - loss: 0.4744 - acc: 0.8006 - val_loss: 0.4408 - val_acc: 0.8510\n",
      "Epoch 64/100\n",
      "1018/1018 [==============================] - 0s 418us/step - loss: 0.4893 - acc: 0.7986 - val_loss: 0.4285 - val_acc: 0.8314\n",
      "Epoch 65/100\n",
      "1018/1018 [==============================] - 0s 456us/step - loss: 0.4899 - acc: 0.8035 - val_loss: 0.4283 - val_acc: 0.8235\n",
      "Epoch 66/100\n",
      "1018/1018 [==============================] - 0s 425us/step - loss: 0.4691 - acc: 0.7996 - val_loss: 0.4361 - val_acc: 0.8196\n",
      "Epoch 67/100\n",
      "1018/1018 [==============================] - 0s 417us/step - loss: 0.4821 - acc: 0.8055 - val_loss: 0.4215 - val_acc: 0.8510\n",
      "Epoch 68/100\n",
      "1018/1018 [==============================] - 0s 426us/step - loss: 0.4783 - acc: 0.8006 - val_loss: 0.4221 - val_acc: 0.8510\n",
      "Epoch 69/100\n",
      "1018/1018 [==============================] - 1s 537us/step - loss: 0.4848 - acc: 0.8006 - val_loss: 0.4196 - val_acc: 0.8510\n",
      "Epoch 70/100\n",
      "1018/1018 [==============================] - 1s 497us/step - loss: 0.4678 - acc: 0.8026 - val_loss: 0.4202 - val_acc: 0.8353\n",
      "Epoch 71/100\n",
      "1018/1018 [==============================] - 0s 423us/step - loss: 0.4744 - acc: 0.7937 - val_loss: 0.4251 - val_acc: 0.8510\n",
      "Epoch 72/100\n",
      "1018/1018 [==============================] - 0s 435us/step - loss: 0.4730 - acc: 0.8006 - val_loss: 0.4276 - val_acc: 0.8549\n",
      "Epoch 73/100\n",
      "1018/1018 [==============================] - 0s 426us/step - loss: 0.4804 - acc: 0.7976 - val_loss: 0.4240 - val_acc: 0.8431\n",
      "Epoch 74/100\n",
      "1018/1018 [==============================] - 0s 417us/step - loss: 0.4688 - acc: 0.8026 - val_loss: 0.4201 - val_acc: 0.8549\n",
      "Epoch 75/100\n",
      "1018/1018 [==============================] - 0s 415us/step - loss: 0.4699 - acc: 0.8094 - val_loss: 0.4353 - val_acc: 0.8235\n",
      "Epoch 76/100\n",
      "1018/1018 [==============================] - 0s 441us/step - loss: 0.4841 - acc: 0.7898 - val_loss: 0.4397 - val_acc: 0.8275\n",
      "Epoch 77/100\n",
      "1018/1018 [==============================] - 0s 412us/step - loss: 0.4721 - acc: 0.8006 - val_loss: 0.4326 - val_acc: 0.8314\n",
      "Epoch 78/100\n",
      "1018/1018 [==============================] - 0s 418us/step - loss: 0.4600 - acc: 0.8104 - val_loss: 0.4409 - val_acc: 0.8314\n",
      "Epoch 79/100\n",
      "1018/1018 [==============================] - 0s 407us/step - loss: 0.4808 - acc: 0.8006 - val_loss: 0.4320 - val_acc: 0.8314\n",
      "Epoch 80/100\n",
      "1018/1018 [==============================] - 0s 397us/step - loss: 0.4679 - acc: 0.8045 - val_loss: 0.4293 - val_acc: 0.8353\n",
      "Epoch 81/100\n",
      "1018/1018 [==============================] - 0s 410us/step - loss: 0.4795 - acc: 0.7986 - val_loss: 0.4312 - val_acc: 0.8431\n",
      "Epoch 82/100\n",
      "1018/1018 [==============================] - 0s 411us/step - loss: 0.4859 - acc: 0.8055 - val_loss: 0.4276 - val_acc: 0.8431\n",
      "Epoch 83/100\n",
      "1018/1018 [==============================] - 0s 412us/step - loss: 0.4647 - acc: 0.8065 - val_loss: 0.4171 - val_acc: 0.8510\n",
      "Epoch 84/100\n",
      "1018/1018 [==============================] - 0s 408us/step - loss: 0.4762 - acc: 0.8006 - val_loss: 0.4167 - val_acc: 0.8510\n",
      "Epoch 85/100\n",
      "1018/1018 [==============================] - 0s 416us/step - loss: 0.4815 - acc: 0.7957 - val_loss: 0.4163 - val_acc: 0.8588\n",
      "Epoch 86/100\n",
      "1018/1018 [==============================] - 0s 487us/step - loss: 0.4677 - acc: 0.7986 - val_loss: 0.4225 - val_acc: 0.8549\n",
      "Epoch 87/100\n",
      "1018/1018 [==============================] - 0s 474us/step - loss: 0.4846 - acc: 0.7839 - val_loss: 0.4284 - val_acc: 0.8196\n",
      "Epoch 88/100\n",
      "1018/1018 [==============================] - 0s 434us/step - loss: 0.4652 - acc: 0.8065 - val_loss: 0.4280 - val_acc: 0.8196\n",
      "Epoch 89/100\n",
      "1018/1018 [==============================] - 0s 433us/step - loss: 0.4704 - acc: 0.7986 - val_loss: 0.4247 - val_acc: 0.8196\n",
      "Epoch 90/100\n",
      "1018/1018 [==============================] - 0s 414us/step - loss: 0.4693 - acc: 0.8134 - val_loss: 0.4162 - val_acc: 0.8510\n",
      "Epoch 91/100\n",
      "1018/1018 [==============================] - 0s 425us/step - loss: 0.4800 - acc: 0.8084 - val_loss: 0.4224 - val_acc: 0.8353\n",
      "Epoch 92/100\n",
      "1018/1018 [==============================] - 1s 545us/step - loss: 0.4615 - acc: 0.8035 - val_loss: 0.4154 - val_acc: 0.8471\n",
      "Epoch 93/100\n",
      "1018/1018 [==============================] - 1s 540us/step - loss: 0.4730 - acc: 0.8075 - val_loss: 0.4263 - val_acc: 0.8275\n",
      "Epoch 94/100\n",
      "1018/1018 [==============================] - 1s 524us/step - loss: 0.4682 - acc: 0.8006 - val_loss: 0.4316 - val_acc: 0.8314\n",
      "Epoch 95/100\n",
      "1018/1018 [==============================] - 0s 466us/step - loss: 0.4699 - acc: 0.7967 - val_loss: 0.4227 - val_acc: 0.8392\n",
      "Epoch 96/100\n",
      "1018/1018 [==============================] - 0s 426us/step - loss: 0.4714 - acc: 0.7967 - val_loss: 0.4159 - val_acc: 0.8549\n",
      "Epoch 97/100\n",
      "1018/1018 [==============================] - 0s 422us/step - loss: 0.4520 - acc: 0.8075 - val_loss: 0.4344 - val_acc: 0.8196\n",
      "Epoch 98/100\n",
      "1018/1018 [==============================] - 0s 429us/step - loss: 0.4740 - acc: 0.8045 - val_loss: 0.4211 - val_acc: 0.8392\n",
      "Epoch 99/100\n",
      "1018/1018 [==============================] - 0s 417us/step - loss: 0.4666 - acc: 0.8075 - val_loss: 0.4338 - val_acc: 0.8196\n",
      "Epoch 100/100\n",
      "1018/1018 [==============================] - 0s 423us/step - loss: 0.4694 - acc: 0.8134 - val_loss: 0.4277 - val_acc: 0.8314\n",
      "50/50 [==============================] - 0s 47us/step\n"
     ]
    }
   ],
   "source": [
    "model.fit(X_train, Y_train, batch_size = 8, epochs = 100, validation_split=0.2)\n",
    "result = model.evaluate(X_valid, Y_valid, batch_size = X_valid.shape[0])"
   ]
  },
  {
   "cell_type": "code",
   "execution_count": 10,
   "metadata": {},
   "outputs": [
    {
     "data": {
      "text/plain": [
       "[0.4944346249103546, 0.800000011920929]"
      ]
     },
     "execution_count": 10,
     "metadata": {},
     "output_type": "execute_result"
    }
   ],
   "source": [
    "result"
   ]
  }
 ],
 "metadata": {
  "kernelspec": {
   "display_name": "Python 3",
   "language": "python",
   "name": "python3"
  },
  "language_info": {
   "codemirror_mode": {
    "name": "ipython",
    "version": 3
   },
   "file_extension": ".py",
   "mimetype": "text/x-python",
   "name": "python",
   "nbconvert_exporter": "python",
   "pygments_lexer": "ipython3",
   "version": "3.5.4"
  }
 },
 "nbformat": 4,
 "nbformat_minor": 2
}
